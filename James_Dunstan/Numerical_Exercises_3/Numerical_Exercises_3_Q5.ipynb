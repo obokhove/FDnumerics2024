{
 "cells": [
  {
   "cell_type": "markdown",
   "id": "6ea6fe37-e0ff-4377-a420-240f9825b536",
   "metadata": {},
   "source": [
    "# Numerical Exercises 3 \n",
    "## Question 5"
   ]
  },
  {
   "cell_type": "markdown",
   "id": "4994a39a-6fa2-4faf-b936-4000ef51a389",
   "metadata": {},
   "source": [
    "The explanations for question 5 are commented in the code additional to the pre-existing comments made by Onno/Yang in a block delimited by #--------#."
   ]
  },
  {
   "cell_type": "code",
   "execution_count": 16,
   "id": "dfe88607-a2b2-424c-a404-af9a65003c5d",
   "metadata": {},
   "outputs": [
    {
     "name": "stdout",
     "output_type": "stream",
     "text": [
      "Mesh resolution: Δx = 0.03125\n",
      "L2 error: Method1 = 1.0643879437411796e-10, Method2 = 1.0585675717169636e-10\n",
      "L2 norm between the two results: 1.1481542300344948e-11\n"
     ]
    }
   ],
   "source": [
    "#\n",
    "# Solution by Firedrake FEM-CG of a Poisson equatiom\n",
    "#\n",
    "from firedrake import *\n",
    "\n",
    "#-----------------#\n",
    "\n",
    "# This part of the code regards step 1. First the mesh is set up by setting the number of steps dx,dy in the x,y directions. This number is effectively \n",
    "# the parameter 'h' since it varies the resolution of the mesh and sets how many basis functions are in the discrete approximation (i.e. sets the space).\n",
    "#When the function space is defined the order of the continuous Galerkin method is set by the number after 'CG' and this represents the order parameter 'p'.\n",
    "# Method 1 takes the poisson equation and multiplies it by a test function and manipulates it to the variables denoted 'a' and 'L' below. Whereas method\n",
    "# 2 starts with the Ritz-Galerkin minimisation problem integral and derives the weak form by the variational principle, taking the derivative with respect\n",
    "# to the coefficents and setting equal to zero. \n",
    "\n",
    "#-----------------#\n",
    "\n",
    "nx = ny = 32 # Try various mesh resolutions, starting coarse, say 16x16 etc.\n",
    "\n",
    "mesh = UnitSquareMesh(nx,ny,quadrilateral=True)\n",
    "# Quadrilateral regular mesh made: https://www.firedrakeproject.org/firedrake.html#firedrake.utility_meshes.UnitSquareMesh\n",
    "# Alternatively use gmsh: \n",
    "\n",
    "V = FunctionSpace(mesh, 'CG', 3) # Piecewise linear continuous Galerkin function space or polynomials\n",
    "# See: https://www.firedrakeproject.org/variational-problems.html\n",
    "\n",
    "#\n",
    "# Method 1: construct the weak form manually by multiplying and manipulating the Poisson equation and solve the linear system\n",
    "#\n",
    "u = TrialFunction(V) # The unknown or variable u(x,y)\n",
    "v = TestFunction(V)  # The testfunction of u, which may be better called delu or deltau\n",
    "\n",
    "x, y = SpatialCoordinate(mesh) # Mesh coordinates\n",
    "\n",
    "f = Function(V).interpolate(2*pi**2*sin(pi*x)*cos(pi*y)) # The given function f(x,y)\n",
    "\n",
    "a = (inner(grad(u),grad(v)))*dx # Step 2/3: The weak form first term\n",
    "L = (f*v)*dx # Step 2/3: The weak form second term; dx is the infinitesimal piece in the damain here: dx*dy=dA with area A.\n",
    "\n",
    "u_1 = Function(V, name='u_1') # Name of solution for first method\n",
    "\n",
    "\n",
    "#-----------------#\n",
    "\n",
    "# This part of method 1 is where the boundary conditions are set i.e. dirichlet, and the discrete weak form is solved\n",
    "\n",
    "#-----------------#\n",
    "\n",
    "bc_x0 = DirichletBC(V, Constant(0), 1) # Dirichlet boundary conditions imposed \n",
    "bc_x1 = DirichletBC(V, Constant(0), 2) # Dirichlet boundary conditions imposed \n",
    "# See: https://www.firedrakeproject.org/firedrake.html#firedrake.bcs.DirichletBC\n",
    "# The homogeneous Neumann boundary conditions are \"automatically\" included, i.e. do not need anything explicit\n",
    "\n",
    "solve(a == L, u_1, solver_parameters={'ksp_type': 'cg', 'pc_type': 'none'}, bcs=[bc_x0,bc_x1]) # Step 4: the solution assigned to u1\n",
    "\n",
    "#\n",
    "# Method 2: generate the weak form via \"derivative()\" of the Ritz-Galerkin integral or variational principle and solve the nonlinear system\n",
    "#\n",
    "u_2 = Function(V, name='u_2') # Name of solution for second method\n",
    "\n",
    "Ju = (0.5*inner(grad(u_2),grad(u_2)) - u_2*f)*dx # f->ULF? Step 2\n",
    "\n",
    "F = derivative(Ju, u_2, du=v) # Step 2/3: The weak form generated\n",
    "\n",
    "#-----------------#\n",
    "\n",
    "# This part of method 2 is where the discrete weak form is solved\n",
    "\n",
    "#-----------------#\n",
    "solve(F == 0, u_2, bcs=[bc_x0, bc_x1]) # Step 4: the solution assigned to u2\n",
    "\n",
    "# \n",
    "\n",
    "u_e = Function(V, name='u_e').interpolate(sin(pi*x)*cos(pi*y)) # The exact solution\n",
    "\n",
    "\n",
    "# Post-processing: Use Paraview to visualise\n",
    "# See https://www.firedrakeproject.org/visualisation.html#creating-output-files\n",
    "outfile = VTKFile('h32_p3.pvd')\n",
    "outfile.write(u_1,u_2, u_e)\n",
    "\n",
    "f.interpolate(sin(pi*x)*cos(pi*y))\n",
    "L2_1 = sqrt(assemble(dot(u_1 - f, u_1 - f) * dx)) # L2 error solution u1\n",
    "L2_2 = sqrt(assemble(dot(u_2 - f, u_2 - f) * dx)) # L2 error solution u2\n",
    "L2 = sqrt(assemble(dot(u_2 - u_1, u_2 - u_1) * dx)) # L2 error difference\n",
    "print(f'Mesh resolution: Δx = {1/nx}')\n",
    "print(f'L2 error: Method1 = {L2_1}, Method2 = {L2_2}')\n",
    "print(f'L2 norm between the two results: {L2}')"
   ]
  },
  {
   "cell_type": "code",
   "execution_count": null,
   "id": "0c96b2fe-6c19-409e-9527-29cd3ba413f7",
   "metadata": {},
   "outputs": [],
   "source": []
  }
 ],
 "metadata": {
  "kernelspec": {
   "display_name": "Python 3 (ipykernel)",
   "language": "python",
   "name": "python3"
  },
  "language_info": {
   "codemirror_mode": {
    "name": "ipython",
    "version": 3
   },
   "file_extension": ".py",
   "mimetype": "text/x-python",
   "name": "python",
   "nbconvert_exporter": "python",
   "pygments_lexer": "ipython3",
   "version": "3.12.3"
  }
 },
 "nbformat": 4,
 "nbformat_minor": 5
}
